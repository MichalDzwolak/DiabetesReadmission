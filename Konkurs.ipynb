{
 "cells": [
  {
   "cell_type": "code",
   "execution_count": null,
   "metadata": {},
   "outputs": [],
   "source": [
    "import pandas as pd\n",
    "import numpy as np\n",
    "import gc\n",
    "import eli5\n",
    "\n",
    "import xgboost as xgb\n",
    "import lightgbm as lgb\n",
    "from sklearn.ensemble import GradientBoostingClassifier\n",
    "from sklearn.linear_model import LogisticRegression\n",
    "from sklearn.ensemble import RandomForestClassifier\n",
    "from sklearn.tree import DecisionTreeClassifier\n",
    "\n",
    "from sklearn.model_selection import train_test_split, StratifiedKFold\n",
    "from ml_metrics import rmsle\n",
    "\n",
    "from sklearn.feature_selection import SelectKBest\n",
    "from sklearn.feature_selection import chi2, f_classif\n",
    "from sklearn.preprocessing import StandardScaler\n",
    "\n",
    "import seaborn as sns\n",
    "import matplotlib.pyplot as plt\n",
    "%matplotlib inline\n",
    "\n",
    "train = pd.read_hdf('../input/diabetic_train.h5')\n",
    "test = pd.read_hdf('../input/diabetic_test.h5')\n",
    "df_all = pd.concat([train, test])\n",
    "del train, test\n",
    "gc.collect()"
   ]
  },
  {
   "cell_type": "markdown",
   "metadata": {},
   "source": [
    "## Opis\n",
    "Kluczem do poprawy mojego wyniku byla agregacja zmiennych numerycznych dla patient number.\n",
    "W zbiorze danych patient number nie byl unikanym kodem. \n",
    "\n",
    "Ponizej znajduje sie set zagregowanych danych, ktory dal moj najlepszy wynik. \n",
    "Zauwazylem, ze model czasami uzywa mean a czasmi median wiec postanowilem pozostawic obie funkcje agregacji. "
   ]
  },
  {
   "cell_type": "markdown",
   "metadata": {},
   "source": [
    "## Feature Engineering"
   ]
  },
  {
   "cell_type": "code",
   "execution_count": null,
   "metadata": {},
   "outputs": [],
   "source": [
    "## Dodatkowe zmienne uzywane przez model\n",
    "df_all['imp_diag'] = df_all['number_inpatient'] * df_all['number_diagnoses']\n",
    "df_all['imp_emer'] = df_all['number_inpatient'] * df_all['number_emergency']\n",
    "\n",
    "## Agregacja wynikow dla patient number. \n",
    "patient_imp_diag = df_all.groupby('patient_nbr').imp_diag.agg([np.mean, np.median])\n",
    "df_all = pd.merge(df_all, patient_imp_diag, how='left', on='patient_nbr')\n",
    "df_all = df_all.rename(columns={'mean':'patient_imp_diag_mean', 'median':'patient_imp_diag_median'})\n",
    "\n",
    "patient_imp_emer = df_all.groupby('patient_nbr').imp_emer.agg([np.mean, np.median])\n",
    "df_all = pd.merge(df_all, patient_imp_emer, how='left', on='patient_nbr')\n",
    "df_all = df_all.rename(columns={'mean':'patient_imp_emer_mean', 'median':'patient_imp_emer_median'})\n",
    "\n",
    "patient_nbrtime = df_all.groupby('patient_nbr').time_in_hospital.agg([np.mean, np.median])\n",
    "df_all = pd.merge(df_all, patient_nbrtime, how='left', on='patient_nbr')\n",
    "df_all = df_all.rename(columns={'mean':'patient_nbrtime_mean', 'median':'patient_nbrtime_median'})\n",
    "\n",
    "patient_nbrnum_lab_procedures = df_all.groupby(['patient_nbr']).num_lab_procedures.agg([np.mean, np.median])\n",
    "df_all = pd.merge(df_all, patient_nbrnum_lab_procedures, how='left', on=['patient_nbr'])\n",
    "df_all = df_all.rename(columns={'mean':'patient_nbrnum_lab_procedures_mea', 'median':'patient_nbrnum_lab_procedures_med'})\n",
    "\n",
    "patient_nbrnum_procedures = df_all.groupby(['patient_nbr']).num_procedures.agg([np.mean, np.median])\n",
    "df_all = pd.merge(df_all, patient_nbrnum_procedures, how='left', on=['patient_nbr'])\n",
    "df_all = df_all.rename(columns={'mean':'patient_nbrnum_procedures_mea', 'median':'patient_nbrnum_procedures_med'})\n",
    "\n",
    "patient_nbrnum_medications = df_all.groupby(['patient_nbr']).num_medications.agg([np.mean, np.median])\n",
    "df_all = pd.merge(df_all, patient_nbrnum_medications, how='left', on=['patient_nbr'])\n",
    "df_all = df_all.rename(columns={'mean':'patient_nbrnum_medications_mea', 'median':'patient_nbrnum_medications_med'})\n",
    "\n",
    "patient_nbrnumber_outpatient = df_all.groupby(['patient_nbr']).number_outpatient.agg([np.mean, np.median])\n",
    "df_all = pd.merge(df_all, patient_nbrnumber_outpatient, how='left', on=['patient_nbr'])\n",
    "df_all = df_all.rename(columns={'mean':'patient_nbrnumber_outpatient_mea', 'median':'patient_nbrnumber_outpatient_med'})\n",
    "\n",
    "patient_nbrnumber_emergency = df_all.groupby(['patient_nbr']).number_emergency.agg([np.mean, np.median])\n",
    "df_all = pd.merge(df_all, patient_nbrnumber_emergency, how='left', on=['patient_nbr'])\n",
    "df_all = df_all.rename(columns={'mean':'patient_nbrnumber_emergency_mea', 'median':'patient_nbrnumber_emergency_med'})\n",
    "\n",
    "patient_nbrnumber_inpatient = df_all.groupby(['patient_nbr']).number_inpatient.agg([np.mean, np.median])\n",
    "df_all = pd.merge(df_all, patient_nbrnumber_inpatient, how='left', on=['patient_nbr'])\n",
    "df_all = df_all.rename(columns={'mean':'patient_nbrnumber_inpatient_mea', 'median':'patient_nbrnumber_inpatient_med'})\n",
    "\n",
    "patient_number_diagnoses = df_all.groupby(['patient_nbr']).number_diagnoses.agg([np.mean, np.median])\n",
    "df_all = pd.merge(df_all, patient_number_diagnoses, how='left', on=['patient_nbr'])\n",
    "df_all = df_all.rename(columns={'mean':'patient_number_diagnoses_mea', 'median':'patient_number_diagnoses_med'})\n",
    "\n",
    "### Dodatkowe agregacje dla id\n",
    "admission_type_id_pat = df_all.groupby(['patient_nbr']).admission_type_id.agg([np.mean, np.median])\n",
    "df_all = pd.merge(df_all, admission_type_id_pat, how='left', on=['patient_nbr'])\n",
    "f_all = df_all.rename(columns={'mean':'admission_type_id_pat_mea', 'median':'admission_type_id_pat_med'})\n",
    "\n",
    "discharge_disposition_id_pat = df_all.groupby(['patient_nbr']).discharge_disposition_id.agg([np.mean, np.median])\n",
    "df_all = pd.merge(df_all, discharge_disposition_id_pat, how='left', on=['patient_nbr'])\n",
    "df_all = df_all.rename(columns={'mean':'discharge_disposition_id_pat_mea', 'median':'discharge_disposition_id_pat_med'})\n",
    "\n",
    "admission_source_id_pat = df_all.groupby(['patient_nbr']).admission_source_id.agg([np.mean, np.median])\n",
    "df_all = pd.merge(df_all, admission_source_id_pat, how='left', on=['patient_nbr'])\n",
    "f_all = df_all.rename(columns={'mean':'admission_source_id_pat_mea', 'median':'admission_source_id_pat_mean'})\n",
    "\n",
    "time_in_hospital_pat = df_all.groupby(['patient_nbr']).time_in_hospital.agg([np.mean, np.median])\n",
    "df_all = pd.merge(df_all, time_in_hospital_pat, how='left', on=['patient_nbr'])\n",
    "f_all = df_all.rename(columns={'mean':'time_in_hospital_pat_mea', 'median':'time_in_hospital_pat_mean'})"
   ]
  },
  {
   "cell_type": "code",
   "execution_count": null,
   "metadata": {},
   "outputs": [],
   "source": [
    "## Factorize zmiennych nie-numerycznych\n",
    "cat_feats = df_all.select_dtypes(include=[np.object]).drop(columns='readmitted').columns\n",
    "for cat_feat in cat_feats:\n",
    "    df_all['{0}_cat'.format(cat_feat)] = pd.factorize( df_all[cat_feat] )[0]"
   ]
  },
  {
   "cell_type": "markdown",
   "metadata": {},
   "source": [
    "## Model"
   ]
  },
  {
   "cell_type": "code",
   "execution_count": null,
   "metadata": {},
   "outputs": [],
   "source": [
    "## Standardowy kod\n",
    "feats = df_all.select_dtypes(include=np.number).columns\n",
    "black_list = ['id', 'encounter_id']\n",
    "feats = [feat for feat in feats if feat not in black_list]\n",
    "train = df_all[df_all.readmitted != '']\n",
    "test = df_all[df_all.readmitted == '']\n",
    "X_test = test[feats].values\n",
    "train['readmitted'] = train['readmitted'].values.astype(np.int8)\n",
    "\n",
    "X_train = train[feats].values\n",
    "y_train = train['readmitted'].values\n",
    "\n",
    "## Zmiana wartosci ujemnych na absolute. Wymagane przez SelectKBest.\n",
    "X_train = np.absolute(X_train)\n",
    "X_test = np.absolute(X_test)\n",
    "\n",
    "## Wybor \"najlepszych\" zmiennych na podstawie \"chi2\". Wybor 50 features nie jest przypadkowy. \n",
    "## Z wieksza iloscia features model nie poprawial wyniku. \n",
    "## Chi2 (Chi-squared stats of non-negative features for classification tasks - sklearn documentation).\n",
    "\n",
    "best_features = SelectKBest(score_func=chi2, k=50)\n",
    "fit = best_features.fit(X_train, y_train)\n",
    "X_train = fit.transform(X_train)\n",
    "X_test = fit.transform(X_test)\n",
    "\n",
    "## Po 1000 max_evals moj best_params wykazal ponizsze parametry dla modelu.\n",
    "## Najlepsza proba to \"best loss: 1.2763671875\"\n",
    "model = xgb.XGBClassifier(n_estimators=int(300.0),\n",
    "                        colsample_bytree=0.8465094069349387,\n",
    "                        learning_rate=0.06205850583029093,\n",
    "                        max_depth=int(5.0),\n",
    "                        min_child_weight=int(10.0),\n",
    "                        random_state=int(4400.0),\n",
    "                        reg_alpha=2.374486413700263,\n",
    "                        reg_lambda=0.9544047687147013,\n",
    "                        subsample=0.9406416711919477)\n",
    "\n",
    "## Standardowy kod\n",
    "cv = StratifiedKFold(n_splits=4)\n",
    "scores = []\n",
    "for train_idx, test_idx in cv.split(X_train, y_train):\n",
    "    X_fold_train, X_fold_test = X_train[train_idx], X_train[test_idx]\n",
    "    y_fold_train, y_fold_test = y_train[train_idx], y_train[test_idx]\n",
    "\n",
    "    model.fit(X_fold_train, y_fold_train)\n",
    "    y_pred = model.predict(X_fold_test)\n",
    "\n",
    "    score = rmsle(y_fold_test, y_pred)\n",
    "    scores.append( score )\n",
    "\n",
    "print('score:' ,np.mean(scores), 'std: ', np.std(scores))"
   ]
  },
  {
   "cell_type": "markdown",
   "metadata": {},
   "source": [
    "## Save results"
   ]
  },
  {
   "cell_type": "code",
   "execution_count": null,
   "metadata": {},
   "outputs": [],
   "source": [
    "#predict test and save result\n",
    "test['readmitted'] = model.predict(X_test)\n",
    "test[ ['id', 'readmitted'] ].to_csv('../output/xz9.csv', index=False)"
   ]
  }
 ],
 "metadata": {
  "kernelspec": {
   "display_name": "Python 3",
   "language": "python",
   "name": "python3"
  },
  "language_info": {
   "codemirror_mode": {
    "name": "ipython",
    "version": 3
   },
   "file_extension": ".py",
   "mimetype": "text/x-python",
   "name": "python",
   "nbconvert_exporter": "python",
   "pygments_lexer": "ipython3",
   "version": "3.6.5"
  }
 },
 "nbformat": 4,
 "nbformat_minor": 2
}
